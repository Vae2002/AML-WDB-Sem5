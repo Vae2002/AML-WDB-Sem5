{
 "cells": [
  {
   "cell_type": "code",
   "execution_count": 2,
   "metadata": {},
   "outputs": [],
   "source": [
    "import random\n",
    "import json\n",
    "import datetime"
   ]
  },
  {
   "cell_type": "code",
   "execution_count": 3,
   "metadata": {},
   "outputs": [],
   "source": [
    "with open('user_data.json', 'r') as file:\n",
    "    user_data = json.load(file)\n",
    "\n",
    "with open('private_parking_freiburg.json', 'r') as file:\n",
    "    private_parking_freiburg = json.load(file)\n",
    "\n",
    "with open('public_parking.json', 'r') as file:\n",
    "    public_parking = json.load(file)\n",
    "\n",
    "def generate_user_id():\n",
    "    return random.choice(user_data)['user_id']\n",
    "\n",
    "def generate_parking_id():\n",
    "    if random.choice([True, False]):\n",
    "        return random.choice(private_parking_freiburg)['private_id']\n",
    "    else:\n",
    "        return random.choice(public_parking)['public_id']\n"
   ]
  },
  {
   "cell_type": "code",
   "execution_count": 4,
   "metadata": {},
   "outputs": [],
   "source": [
    "# Helper functions\n",
    "def generate_random_review():\n",
    "    reviews = [\n",
    "        \"Great property, very clean and comfortable.\",\n",
    "        \"Not bad, but the place was a bit small.\",\n",
    "        \"Had a wonderful stay, would definitely come back.\",\n",
    "        \"The location was perfect but a little noisy.\",\n",
    "        \"It was okay, but the heating wasn't working well.\",\n",
    "        \"Perfect for a short stay, highly recommend.\",\n",
    "        \"Loved it! Spacious and modern.\",\n",
    "        \"Could have been cleaner, but overall fine.\",\n",
    "        \"Amazing experience, everything was as expected.\",\n",
    "        \"The property was nice, but a bit expensive for what it was.\"\n",
    "    ]\n",
    "    return random.choice(reviews)\n",
    "\n",
    "def generate_random_coordinates():\n",
    "    # Coordinates for Freiburg im Breisgau area (Germany)\n",
    "    lat_range = (47.9900, 48.0700)\n",
    "    lon_range = (7.8500, 7.9700)\n",
    "    latitude = round(random.uniform(*lat_range), 5)\n",
    "    longitude = round(random.uniform(*lon_range), 5)\n",
    "    return latitude, longitude\n",
    "\n",
    "def generate_random_distance():\n",
    "    # Random distance in kilometers, assuming distances vary from 0 to 50 km\n",
    "    return round(random.uniform(1, 50), 2)\n",
    "\n",
    "def generate_random_datetime():\n",
    "    # Generate random date-time when the booking was made (within the past year)\n",
    "    start_date = datetime.datetime(2023, 1, 1)\n",
    "    end_date = datetime.datetime.now()\n",
    "    delta = end_date - start_date\n",
    "    random_days = random.randint(0, delta.days)\n",
    "    random_time = random.randint(0, 23)\n",
    "    random_minutes = random.randint(0, 59)\n",
    "    booking_datetime = start_date + datetime.timedelta(days=random_days, hours=random_time, minutes=random_minutes)\n",
    "    return booking_datetime.isoformat()\n"
   ]
  },
  {
   "cell_type": "code",
   "execution_count": 5,
   "metadata": {},
   "outputs": [
    {
     "name": "stdout",
     "output_type": "stream",
     "text": [
      "History data has been saved to 'history_data.json'\n"
     ]
    }
   ],
   "source": [
    "data = []\n",
    "for _ in range(200):\n",
    "    history_entry = {\n",
    "        \"history_id\": f\"HID{random.randint(1000, 9999)}\", \n",
    "        \"review_text\": generate_random_review(),\n",
    "        \"user_id\": generate_user_id(),\n",
    "        \"parking_id\": generate_parking_id(),\n",
    "        \"latitude\": generate_random_coordinates()[0],\n",
    "        \"longitude\": generate_random_coordinates()[1],\n",
    "        \"distance\": generate_random_distance(),\n",
    "        \"datetime\": generate_random_datetime()\n",
    "    }\n",
    "    data.append(history_entry)\n",
    "\n",
    "# Save the generated data to a JSON file\n",
    "with open('history_data.json', 'w') as json_file:\n",
    "    json.dump(data, json_file, indent=4)\n",
    "\n",
    "print(\"History data has been saved to 'history_data.json'\")\n"
   ]
  }
 ],
 "metadata": {
  "kernelspec": {
   "display_name": ".venv",
   "language": "python",
   "name": "python3"
  },
  "language_info": {
   "codemirror_mode": {
    "name": "ipython",
    "version": 3
   },
   "file_extension": ".py",
   "mimetype": "text/x-python",
   "name": "python",
   "nbconvert_exporter": "python",
   "pygments_lexer": "ipython3",
   "version": "3.12.0"
  }
 },
 "nbformat": 4,
 "nbformat_minor": 2
}
