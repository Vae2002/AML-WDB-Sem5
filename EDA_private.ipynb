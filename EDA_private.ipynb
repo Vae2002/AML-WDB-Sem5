{
 "cells": [
  {
   "cell_type": "code",
   "execution_count": 10,
   "metadata": {},
   "outputs": [],
   "source": [
    "import random\n",
    "import json"
   ]
  },
  {
   "cell_type": "code",
   "execution_count": 11,
   "metadata": {},
   "outputs": [],
   "source": [
    "# Helper function to generate random address and coordinates around Freiburg im Breisgau\n",
    "def generate_random_address():\n",
    "    streets = [\"Kaiserstraße\", \"Steinweg\", \"Breisgauer Straße\", \"Schwarzwaldstraße\", \"Bismarckstraße\", \"Schreiberstraße\", \"Sundgauallee\", \"Bertoldstraße\", \"Spittelackerstraße\", \"Elsässerstraße\", \"Killianstraße\"]\n",
    "    house_numbers = range(1, 150)\n",
    "    street = random.choice(streets)\n",
    "    number = random.choice(house_numbers)\n",
    "    return f\"{street} {number}\"\n",
    "\n",
    "\n",
    "def generate_random_coordinates():\n",
    "    # Coordinates around Freiburg im Breisgau, Germany\n",
    "    lat_range = (47.9900, 48.0700)\n",
    "    lon_range = (7.8500, 7.9700)\n",
    "    latitude = round(random.uniform(*lat_range), 5)\n",
    "    longitude = round(random.uniform(*lon_range), 5)\n",
    "    return latitude, longitude\n",
    "\n",
    "# Randomly generate a landlord id\n",
    "def generate_landlord_id():\n",
    "    return random.randint(1000, 9999)"
   ]
  },
  {
   "cell_type": "code",
   "execution_count": 12,
   "metadata": {},
   "outputs": [],
   "source": [
    "# Generate data for 100 entries\n",
    "data = []\n",
    "for _ in range(100):\n",
    "    entry = {\n",
    "        \"private_id\": f\"PID{random.randint(10000, 99999)}\",\n",
    "        \"name\": f\"Property {random.randint(1, 1000)}\",\n",
    "        \"address\": generate_random_address(),\n",
    "        \"latitude\": generate_random_coordinates()[0],\n",
    "        \"longitude\": generate_random_coordinates()[1],\n",
    "        \"price\": round(random.uniform(300, 2000), 2),\n",
    "        \"capacity\": random.randint(1, 10),\n",
    "        \"available_space\": random.randint(50, 300),\n",
    "        \"special_access\": random.choice([\"garage\", \"basement\", \"storage room\", \"rooftop\"]),\n",
    "        \"landlord_id\": generate_landlord_id()\n",
    "    }\n",
    "    data.append(entry)"
   ]
  },
  {
   "cell_type": "code",
   "execution_count": 13,
   "metadata": {},
   "outputs": [
    {
     "data": {
      "text/plain": [
       "'[\\n    {\\n        \"private_id\": \"PID79186\",\\n        \"name\": \"Property 468\",\\n        \"address\": \"Bertoldstra\\\\u00dfe 27\",\\n        \"latitude\": 48.02854,\\n        \"longitude\": 7.93212,\\n        \"price\": 1746.13,\\n        \"capacity\": 9,\\n        \"available_space\": 108,\\n        \"special_access\": \"basement\",\\n        \"landlord_id\": 8504\\n    },\\n    {\\n        \"private_id\": \"PID99727\",\\n        \"name\": \"Property 116\",\\n        \"address\": \"Sundgauallee 14\",\\n        \"latitude\": 48.04359,\\n        \"longitude\": 7.93379'"
      ]
     },
     "execution_count": 13,
     "metadata": {},
     "output_type": "execute_result"
    }
   ],
   "source": [
    "# Output the data in JSON format\n",
    "json_data = json.dumps(data, indent=4)\n",
    "json_data[:500]"
   ]
  },
  {
   "cell_type": "code",
   "execution_count": 14,
   "metadata": {},
   "outputs": [],
   "source": [
    "# Save the generated data to a JSON file\n",
    "with open('private_parking_freiburg.json', 'w') as json_file:\n",
    "    json.dump(data, json_file, indent=4)"
   ]
  }
 ],
 "metadata": {
  "kernelspec": {
   "display_name": ".venv",
   "language": "python",
   "name": "python3"
  },
  "language_info": {
   "codemirror_mode": {
    "name": "ipython",
    "version": 3
   },
   "file_extension": ".py",
   "mimetype": "text/x-python",
   "name": "python",
   "nbconvert_exporter": "python",
   "pygments_lexer": "ipython3",
   "version": "3.12.0"
  }
 },
 "nbformat": 4,
 "nbformat_minor": 2
}
