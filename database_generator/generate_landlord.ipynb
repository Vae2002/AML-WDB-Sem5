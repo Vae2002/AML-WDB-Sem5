{
 "cells": [
  {
   "cell_type": "code",
   "execution_count": 2,
   "metadata": {},
   "outputs": [
    {
     "name": "stdout",
     "output_type": "stream",
     "text": [
      "Landlord data has been saved to 'landlord_data.json'\n"
     ]
    }
   ],
   "source": [
    "import random\n",
    "import json\n",
    "import string\n",
    "\n",
    "# Helper functions\n",
    "def generate_random_name():\n",
    "    first_names = [\n",
    "        \"Max\", \"Lena\", \"Moritz\", \"Emma\", \"Paul\", \"Sophia\", \"Lukas\", \"Mia\", \"Leon\", \"Anna\",\n",
    "        \"Tim\", \"Johanna\", \"Ben\", \"Laura\", \"Philipp\", \"Charlotte\", \"Julian\", \"Clara\", \"Niklas\", \"Lina\",\n",
    "        \"Felix\", \"Sarah\", \"Mika\", \"Marie\", \"Tobias\", \"Hannah\", \"David\", \"Emily\", \"Jakob\", \"Isabella\"\n",
    "    ]\n",
    "    \n",
    "    last_names = [\n",
    "        \"Schmidt\", \"Müller\", \"Schneider\", \"Fischer\", \"Weber\", \"Hoffmann\", \"Wagner\", \"Bauer\", \"Richter\", \"Koch\",\n",
    "        \"Schulz\", \"Zimmermann\", \"Hartmann\", \"Böhm\", \"Lang\", \"Neumann\", \"Klein\", \"Wolf\", \"Peters\", \"Becker\",\n",
    "        \"Krämer\", \"Schwarz\", \"Schwarz\", \"Meier\", \"Lange\", \"Braun\", \"Maier\", \"Schumacher\", \"Frank\", \"Vogel\"\n",
    "    ]\n",
    "    \n",
    "    return random.choice(first_names) + \" \" + random.choice(last_names)\n",
    "\n",
    "def generate_random_username(name):\n",
    "    # Generate a simple username using first and last name initials\n",
    "    name_parts = name.split()\n",
    "    return name_parts[0][0].lower() + name_parts[1].lower() + str(random.randint(100, 999))\n",
    "\n",
    "def generate_random_password():\n",
    "    # Generate a random password\n",
    "    return ''.join(random.choices(string.ascii_letters + string.digits, k=8))\n",
    "\n",
    "def generate_phone_number():\n",
    "    # Generate a random phone number in the format +49 (XXX) XXX-XXXX\n",
    "    phone_number = \"+49 (0)\" + str(random.randint(100, 999)) + \" \" + str(random.randint(100, 999)) + \"-\" + str(random.randint(1000, 9999))\n",
    "    return phone_number\n",
    "\n",
    "def generate_landlord_contact_info():\n",
    "    # Randomly generate contact hours for the landlord\n",
    "    contact_hours = [\n",
    "        \"Available from 9 AM to 6 PM on weekdays.\",\n",
    "        \"You can contact the landlord between 10 AM and 4 PM daily.\",\n",
    "        \"Landlord is available 24/7 for emergencies.\",\n",
    "        \"Contact the landlord from 2 PM to 7 PM on weekdays.\",\n",
    "        \"Landlord available between 9 AM to 5 PM Monday to Friday.\"\n",
    "    ]\n",
    "    return random.choice(contact_hours)\n",
    "\n",
    "data = []\n",
    "for _ in range(5000):\n",
    "    name = generate_random_name()\n",
    "    landlord_id = f\"LID{random.randint(10000, 99999)}\"\n",
    "    entry = {\n",
    "        \"landlord_id\": landlord_id,\n",
    "        \"name\": name,\n",
    "        \"username\": generate_random_username(name),\n",
    "        \"password\": generate_random_password(),\n",
    "        \"phone_number\": generate_phone_number(),\n",
    "        \"availability\": generate_landlord_contact_info()\n",
    "    }\n",
    "    data.append(entry)\n",
    "\n",
    "# Save the generated data to a JSON file\n",
    "with open('landlord_data.json', 'w') as json_file:\n",
    "    json.dump(data, json_file, indent=4)\n",
    "\n",
    "print(\"Landlord data has been saved to 'landlord_data.json'\")\n"
   ]
  }
 ],
 "metadata": {
  "kernelspec": {
   "display_name": ".venv",
   "language": "python",
   "name": "python3"
  },
  "language_info": {
   "codemirror_mode": {
    "name": "ipython",
    "version": 3
   },
   "file_extension": ".py",
   "mimetype": "text/x-python",
   "name": "python",
   "nbconvert_exporter": "python",
   "pygments_lexer": "ipython3",
   "version": "3.12.0"
  }
 },
 "nbformat": 4,
 "nbformat_minor": 2
}
