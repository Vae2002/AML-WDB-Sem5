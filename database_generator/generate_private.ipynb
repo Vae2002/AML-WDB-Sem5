{
 "cells": [
  {
   "cell_type": "code",
   "execution_count": 67,
   "metadata": {},
   "outputs": [],
   "source": [
    "import random\n",
    "import json\n",
    "import datetime"
   ]
  },
  {
   "cell_type": "code",
   "execution_count": 68,
   "metadata": {},
   "outputs": [],
   "source": [
    "# Load the JSON data (assuming you have the file path)\n",
    "with open('landlord_data.json', 'r') as file:\n",
    "    landlord_data = json.load(file)\n",
    "\n",
    "def generate_landlord_id():\n",
    "    # Randomly select a landlord_id from the JSON data\n",
    "    return random.choice(landlord_data)['landlord_id']"
   ]
  },
  {
   "cell_type": "code",
   "execution_count": 69,
   "metadata": {},
   "outputs": [],
   "source": [
    "def generate_random_address():\n",
    "    # Streets and locations from various cities in Baden-Württemberg\n",
    "    streets = [\n",
    "        \"Hauptstraße\", \"Schlossstraße\", \"Marktplatz\", \"Bahnhofstraße\", \"Karlsruher Straße\",\n",
    "        \"Ludwigsburger Straße\", \"Heidelberger Straße\", \"Stuttgarter Straße\", \"Bodenseestraße\",\n",
    "        \"Tübinger Straße\", \"Ulmer Straße\", \"Hegelstraße\", \"Goethestraße\", \"Mozartstraße\",\n",
    "        \"Kantstraße\", \"Friedrichstraße\", \"Wilhelmstraße\"\n",
    "    ]\n",
    "    house_numbers = range(1, 150)\n",
    "    street = random.choice(streets)\n",
    "    number = random.choice(house_numbers)\n",
    "    return f\"{street} {number}\"\n",
    "\n",
    "def generate_random_coordinates():\n",
    "    # Coordinates around Baden-Württemberg, Germany\n",
    "    lat_range = (47.5000, 49.5000)  # Southernmost to northernmost points\n",
    "    lon_range = (7.5000, 10.5000)   # Westernmost to easternmost points\n",
    "    latitude = round(random.uniform(*lat_range), 5)\n",
    "    longitude = round(random.uniform(*lon_range), 5)\n",
    "    return latitude, longitude\n",
    "\n",
    "def generate_opening_time():\n",
    "    start_date = datetime.datetime(2025, 1, 1)\n",
    "    end_date = datetime.datetime(2025, 12, 31)\n",
    "    delta = end_date - start_date\n",
    "    random_days = random.randint(0, delta.days)\n",
    "    random_start_date = start_date + datetime.timedelta(days=random_days)\n",
    "    random_end_date = random_start_date + datetime.timedelta(days=random.randint(1, 30))\n",
    "    time_range = \"6AM-10PM\"  # Opening hours are consistent\n",
    "\n",
    "    return (\n",
    "        f\"{random_start_date.strftime('%A, %d %B %Y')} - \"\n",
    "        f\"{random_end_date.strftime('%A, %d %B %Y')} {time_range}\"\n",
    "    )"
   ]
  },
  {
   "cell_type": "code",
   "execution_count": 70,
   "metadata": {},
   "outputs": [],
   "source": [
    "data = []\n",
    "for _ in range(10000):\n",
    "    entry = {\n",
    "        \"private_id\": f\"PRI{random.randint(10000, 99999)}\",\n",
    "        \"name\": f\"Property {random.randint(1, 1000)}\",\n",
    "        \"address\": generate_random_address(),\n",
    "        \"latitude\": generate_random_coordinates()[0],\n",
    "        \"longitude\": generate_random_coordinates()[1],\n",
    "        \"price_per_hour\": round(random.uniform(300, 2000), 2),\n",
    "        \"capacity\": random.randint(5, 10),\n",
    "        \"available_space\": random.randint(1, 5),\n",
    "        \"special_access\": random.choice([\"garage\", \"basement\", \"storage room\", \"rooftop\"]),\n",
    "        \"landlord_id\": generate_landlord_id(),\n",
    "        \"opening_time\": generate_opening_time()\n",
    "    }\n",
    "    data.append(entry)"
   ]
  },
  {
   "cell_type": "code",
   "execution_count": 71,
   "metadata": {},
   "outputs": [
    {
     "data": {
      "text/plain": [
       "'[\\n    {\\n        \"private_id\": \"PRI49571\",\\n        \"name\": \"Property 679\",\\n        \"address\": \"Kantstra\\\\u00dfe 28\",\\n        \"latitude\": 48.69357,\\n        \"longitude\": 8.05641,\\n        \"price_per_hour\": 1041.41,\\n        \"capacity\": 10,\\n        \"available_space\": 4,\\n        \"special_access\": \"storage room\",\\n        \"landlord_id\": \"LID15007\",\\n        \"opening_time\": \"Monday, 05 May 2025 - Tuesday, 03 June 2025 6AM-10PM\"\\n    },\\n    {\\n        \"private_id\": \"PRI34484\",\\n        \"name\": \"Property 696\",\\n '"
      ]
     },
     "execution_count": 71,
     "metadata": {},
     "output_type": "execute_result"
    }
   ],
   "source": [
    "# Output the data in JSON format\n",
    "json_data = json.dumps(data, indent=4)\n",
    "json_data[:500]"
   ]
  },
  {
   "cell_type": "code",
   "execution_count": 72,
   "metadata": {},
   "outputs": [],
   "source": [
    "# Save the generated data to a JSON file\n",
    "with open('private_parking.json', 'w') as json_file:\n",
    "    json.dump(data, json_file, indent=4)"
   ]
  }
 ],
 "metadata": {
  "kernelspec": {
   "display_name": ".venv",
   "language": "python",
   "name": "python3"
  },
  "language_info": {
   "codemirror_mode": {
    "name": "ipython",
    "version": 3
   },
   "file_extension": ".py",
   "mimetype": "text/x-python",
   "name": "python",
   "nbconvert_exporter": "python",
   "pygments_lexer": "ipython3",
   "version": "3.12.0"
  }
 },
 "nbformat": 4,
 "nbformat_minor": 2
}
