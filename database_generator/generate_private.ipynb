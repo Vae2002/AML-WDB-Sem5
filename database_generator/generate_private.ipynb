{
 "cells": [
  {
   "cell_type": "code",
   "execution_count": 13,
   "metadata": {},
   "outputs": [],
   "source": [
    "import random\n",
    "import json\n",
    "import datetime"
   ]
  },
  {
   "cell_type": "code",
   "execution_count": 14,
   "metadata": {},
   "outputs": [],
   "source": [
    "# Load the JSON data (assuming you have the file path)\n",
    "with open('landlord_data.json', 'r') as file:\n",
    "    landlord_data = json.load(file)\n",
    "\n",
    "def generate_landlord_id():\n",
    "    # Randomly select a landlord_id from the JSON data\n",
    "    return random.choice(landlord_data)['landlord_id']"
   ]
  },
  {
   "cell_type": "code",
   "execution_count": 15,
   "metadata": {},
   "outputs": [],
   "source": [
    "# Helper function to generate random address and coordinates around Freiburg im Breisgau\n",
    "def generate_random_address():\n",
    "    streets = [\"Kaiserstraße\", \"Steinweg\", \"Breisgauer Straße\", \"Schwarzwaldstraße\", \"Bismarckstraße\", \"Schreiberstraße\", \"Sundgauallee\", \"Bertoldstraße\", \"Spittelackerstraße\", \"Elsässerstraße\", \"Killianstraße\"]\n",
    "    house_numbers = range(1, 150)\n",
    "    street = random.choice(streets)\n",
    "    number = random.choice(house_numbers)\n",
    "    return f\"{street} {number}\"\n",
    "\n",
    "\n",
    "def generate_random_coordinates():\n",
    "    # Coordinates around Freiburg im Breisgau, Germany\n",
    "    lat_range = (47.9900, 48.0700)\n",
    "    lon_range = (7.8500, 7.9700)\n",
    "    latitude = round(random.uniform(*lat_range), 5)\n",
    "    longitude = round(random.uniform(*lon_range), 5)\n",
    "    return latitude, longitude\n",
    "\n",
    "def generate_opening_time():\n",
    "    start_date = datetime.datetime(2025, 1, 1)\n",
    "    end_date = datetime.datetime(2025, 12, 31)\n",
    "    delta = end_date - start_date\n",
    "    random_days = random.randint(0, delta.days)\n",
    "    random_start_date = start_date + datetime.timedelta(days=random_days)\n",
    "    random_end_date = random_start_date + datetime.timedelta(days=random.randint(1, 30))  \n",
    "    time_range = \"6AM-10PM\"  \n",
    "\n",
    "    return (\n",
    "        f\"{random_start_date.strftime('%A, %d %B %Y')} - \"\n",
    "        f\"{random_end_date.strftime('%A, %d %B %Y')} {time_range}\"\n",
    "    )"
   ]
  },
  {
   "cell_type": "code",
   "execution_count": 16,
   "metadata": {},
   "outputs": [],
   "source": [
    "# Generate data for 100 entries\n",
    "data = []\n",
    "for _ in range(150):\n",
    "    entry = {\n",
    "        \"private_id\": f\"PRI{random.randint(10000, 99999)}\",\n",
    "        \"name\": f\"Property {random.randint(1, 1000)}\",\n",
    "        \"address\": generate_random_address(),\n",
    "        \"latitude\": generate_random_coordinates()[0],\n",
    "        \"longitude\": generate_random_coordinates()[1],\n",
    "        \"price\": round(random.uniform(300, 2000), 2),\n",
    "        \"capacity\": random.randint(1, 10),\n",
    "        \"available_space\": random.randint(50, 300),\n",
    "        \"special_access\": random.choice([\"garage\", \"basement\", \"storage room\", \"rooftop\"]),\n",
    "        \"landlord_id\": generate_landlord_id(),\n",
    "        \"opening_time\": generate_opening_time()\n",
    "    }\n",
    "    data.append(entry)"
   ]
  },
  {
   "cell_type": "code",
   "execution_count": 17,
   "metadata": {},
   "outputs": [
    {
     "data": {
      "text/plain": [
       "'[\\n    {\\n        \"private_id\": \"PRI95842\",\\n        \"name\": \"Property 529\",\\n        \"address\": \"Sundgauallee 11\",\\n        \"latitude\": 48.00649,\\n        \"longitude\": 7.90586,\\n        \"price\": 1707.38,\\n        \"capacity\": 6,\\n        \"available_space\": 77,\\n        \"special_access\": \"rooftop\",\\n        \"landlord_id\": \"LID24902\",\\n        \"opening_time\": \"Thursday, 11 December 2025 - Thursday, 18 December 2025 6AM-10PM\"\\n    },\\n    {\\n        \"private_id\": \"PRI91056\",\\n        \"name\": \"Property 142\",\\n      '"
      ]
     },
     "execution_count": 17,
     "metadata": {},
     "output_type": "execute_result"
    }
   ],
   "source": [
    "# Output the data in JSON format\n",
    "json_data = json.dumps(data, indent=4)\n",
    "json_data[:500]"
   ]
  },
  {
   "cell_type": "code",
   "execution_count": 18,
   "metadata": {},
   "outputs": [],
   "source": [
    "# Save the generated data to a JSON file\n",
    "with open('private_parking_freiburg.json', 'w') as json_file:\n",
    "    json.dump(data, json_file, indent=4)"
   ]
  }
 ],
 "metadata": {
  "kernelspec": {
   "display_name": ".venv",
   "language": "python",
   "name": "python3"
  },
  "language_info": {
   "codemirror_mode": {
    "name": "ipython",
    "version": 3
   },
   "file_extension": ".py",
   "mimetype": "text/x-python",
   "name": "python",
   "nbconvert_exporter": "python",
   "pygments_lexer": "ipython3",
   "version": "3.12.0"
  }
 },
 "nbformat": 4,
 "nbformat_minor": 2
}
