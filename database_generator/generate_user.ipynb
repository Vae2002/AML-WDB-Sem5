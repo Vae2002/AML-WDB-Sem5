{
 "cells": [
  {
   "cell_type": "code",
   "execution_count": 3,
   "metadata": {},
   "outputs": [
    {
     "name": "stdout",
     "output_type": "stream",
     "text": [
      "Data has been saved to 'user_data.json'\n"
     ]
    }
   ],
   "source": [
    "import random\n",
    "import json\n",
    "import string\n",
    "\n",
    "# Helper functions\n",
    "def generate_random_name():\n",
    "    first_names = [\"Max\", \"Lena\", \"Moritz\", \"Emma\", \"Paul\", \"Sophia\", \"Lukas\", \"Mia\", \"Leon\", \"Anna\"]\n",
    "    last_names = [\"Schmidt\", \"Müller\", \"Schneider\", \"Fischer\", \"Weber\", \"Hoffmann\", \"Wagner\", \"Bauer\", \"Richter\", \"Koch\"]\n",
    "    return random.choice(first_names) + \" \" + random.choice(last_names)\n",
    "\n",
    "def generate_random_username(name):\n",
    "    # Generate a simple username using first and last name initials\n",
    "    name_parts = name.split()\n",
    "    return name_parts[0][0].lower() + name_parts[1].lower() + str(random.randint(100, 999))\n",
    "\n",
    "def generate_random_password():\n",
    "    # Generate a random password\n",
    "    return ''.join(random.choices(string.ascii_letters + string.digits, k=8))\n",
    "\n",
    "def generate_license_plate():\n",
    "    # Generate a license plate for Freiburg im Breisgau (Freiburg's area code is \"FR\")\n",
    "    letters = random.choice(string.ascii_uppercase) + random.choice(string.ascii_uppercase)\n",
    "    digits = random.randint(1000, 9999)\n",
    "    return f\"FR {letters} {digits}\"\n",
    "\n",
    "def generate_email(username):\n",
    "    domains = [\"example.com\", \"mail.com\", \"service.net\", \"webmail.org\"]\n",
    "    return f\"{username}@{random.choice(domains)}\"\n",
    "\n",
    "def generate_phone_number():\n",
    "    # Generate a German-style phone number\n",
    "    return f\"+49 {random.randint(151, 159)} {random.randint(1000000, 9999999)}\"\n",
    "\n",
    "def generate_address():\n",
    "    streets = [\"Bahnhofstr.\", \"Hauptstr.\", \"Gartenweg\", \"Kirchplatz\", \"Schulstr.\", \"Berliner Allee\", \"Ringstr.\", \"Mozartweg\", \"Rosenstr.\", \"Bergstr.\"]\n",
    "    cities = [\"Freiburg\", \"Offenburg\", \"Karlsruhe\", \"Stuttgart\", \"Mannheim\", \"Heidelberg\", \"Konstanz\", \"Ulm\", \"Tübingen\", \"Augsburg\"]\n",
    "    return f\"{random.randint(1, 100)} {random.choice(streets)}, {random.choice(cities)}\"\n",
    "\n",
    "# Generate data for 80,000 entries\n",
    "data = []\n",
    "for _ in range(80000):\n",
    "    name = generate_random_name()\n",
    "    username = generate_random_username(name)\n",
    "    entry = {\n",
    "        \"user_id\": f\"UID{random.randint(10000, 99999)}\",\n",
    "        \"name\": name,\n",
    "        \"username\": username,\n",
    "        \"password\": generate_random_password(),\n",
    "        \"license_plate_number\": generate_license_plate(),\n",
    "        \"credits\": round(random.uniform(10, 500), 2),\n",
    "        \"email\": generate_email(username),\n",
    "        \"phone_number\": generate_phone_number(),\n",
    "        \"address\": generate_address()\n",
    "    }\n",
    "    data.append(entry)\n",
    "\n",
    "# Save the generated data to a JSON file\n",
    "with open('user_data.json', 'w') as json_file:\n",
    "    json.dump(data, json_file, indent=4)\n",
    "\n",
    "print(\"Data has been saved to 'user_data.json'\")\n"
   ]
  }
 ],
 "metadata": {
  "kernelspec": {
   "display_name": ".venv",
   "language": "python",
   "name": "python3"
  },
  "language_info": {
   "codemirror_mode": {
    "name": "ipython",
    "version": 3
   },
   "file_extension": ".py",
   "mimetype": "text/x-python",
   "name": "python",
   "nbconvert_exporter": "python",
   "pygments_lexer": "ipython3",
   "version": "3.12.0"
  }
 },
 "nbformat": 4,
 "nbformat_minor": 2
}
